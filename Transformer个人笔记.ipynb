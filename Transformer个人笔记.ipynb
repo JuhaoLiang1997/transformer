{
  "nbformat": 4,
  "nbformat_minor": 0,
  "metadata": {
    "colab": {
      "name": "Transformer.ipynb",
      "provenance": [],
      "collapsed_sections": [
        "DqW8DA-Hrher",
        "sZQ0sdpKVjzK",
        "t80zNLztVTv1",
        "uSaSREGXV6gg",
        "zV48TVYLRXUz",
        "t-PLtnlCPtqX",
        "POOZmw2UMEwv",
        "zZpg_hcaDzQk",
        "ZKL7BIPA97re",
        "gr4DsQiU-iax",
        "wvfVeLkfU1SS"
      ]
    },
    "kernelspec": {
      "name": "python3",
      "display_name": "Python 3"
    },
    "language_info": {
      "name": "python"
    }
  },
  "cells": [
    {
      "cell_type": "code",
      "source": [
        "import torch\n",
        "import torch.nn as nn\n",
        "import math"
      ],
      "metadata": {
        "id": "fGy4wmhzpxXT"
      },
      "execution_count": null,
      "outputs": []
    },
    {
      "cell_type": "markdown",
      "source": [
        "# Transformer Pytorch 实现\n",
        "https://github.com/hyunwoongko/transformer"
      ],
      "metadata": {
        "id": "UelUIf4JqV4S"
      }
    },
    {
      "cell_type": "markdown",
      "source": [
        "# Models"
      ],
      "metadata": {
        "id": "ANx7ZLf6VIVE"
      }
    },
    {
      "cell_type": "markdown",
      "source": [
        "## Embedding"
      ],
      "metadata": {
        "id": "DqW8DA-Hrher"
      }
    },
    {
      "cell_type": "markdown",
      "source": [
        "### Positional Encoding\n",
        "- positional encoding 公式计算"
      ],
      "metadata": {
        "id": "sZQ0sdpKVjzK"
      }
    },
    {
      "cell_type": "code",
      "execution_count": 89,
      "metadata": {
        "id": "pCOa4KOlpi-8"
      },
      "outputs": [],
      "source": [
        "class PostionalEncoding(nn.Module):\n",
        "\n",
        "    def __init__(self, d_model, max_len, device):\n",
        "        \"\"\" \n",
        "        PositionalEncoding\n",
        "        \n",
        "        :param d_model: input_embedding 维度\n",
        "        :param max_len: 最大 sequence 长度\n",
        "        \"\"\"\n",
        "        super(PostionalEncoding, self).__init__()\n",
        "\n",
        "        # 和 input_embedding 形状相同 (max_len, d_model)\n",
        "        self.encoding = torch.zeros(max_len, d_model, device=device)\n",
        "        self.encoding.requires_grad = False\n",
        "\n",
        "        pos = torch.arange(0, max_len, device=device)\n",
        "        pos = pos.float().unsqueeze(dim=1)\n",
        "        \n",
        "        _2i = torch.arange(0, d_model, step=2, device=device).float()\n",
        "        # positional encoding 计算公式，偶数位用sin，奇数位用cos\n",
        "        self.encoding[:, 0::2] = torch.sin(pos / (10000 ** (_2i / d_model)))\n",
        "        self.encoding[:, 1::2] = torch.cos(pos / (10000 ** (_2i / d_model)))\n",
        "\n",
        "    def forward(self, x):\n",
        "        '''\n",
        "        :param x: [batch_size, seq_len] 是原本的 token 序列，还没做 embedding\n",
        "        :return: [seq_len, d_model] 不同 batch 的 position encoding 相同，返回相同的就好\n",
        "        '''\n",
        "    \tbatch_size, seq_len = x.size()\n",
        "    \treturn self.encoding[:seq_len, :]"
      ]
    },
    {
      "cell_type": "markdown",
      "source": [
        "### Transformer Embedding\n",
        "- Input Embedding: 这个是根据数据集不同自行决定，这里不实现\n",
        "- Positional Encoding：对输入序列加上 position 信息\n",
        "- Dropout"
      ],
      "metadata": {
        "id": "t80zNLztVTv1"
      }
    },
    {
      "cell_type": "code",
      "source": [
        "class TransformerEmbedding(nn.Module):\n",
        "\n",
        "    def __init__(self, vocab_size, d_model, max_len, drop_prob, device):\n",
        "        \"\"\"\n",
        "        Input embedding = token embedding + positional encoding\n",
        "\n",
        "        :param vocab_size: token 数量\n",
        "        :param d_model: input embedding 维度\n",
        "        :param max_len: 最大 sequence 长度\n",
        "        :param drop_prob: 每层都要 drop 一下\n",
        "        \"\"\"\n",
        "        super(TransformerEmbedding, self).__init__()\n",
        "        self.tok_emb = nn.Embedding(vocab_size, d_model) # 这里 embedding 是可以参数共享的。embedding 也可以是预训练的\n",
        "        self.pos_emb = PostionalEncoding(d_model, max_len, device)\n",
        "        self.drop_out = nn.Dropout(p=drop_prob)\n",
        "\n",
        "    def forward(self, x):\n",
        "        '''\n",
        "        :param x: [batch_size, seq_len]\n",
        "        :return: [batch_size, seq_len, d_model]\n",
        "        '''\n",
        "\n",
        "        tok_emb = self.tok_emb(x) # (batch_size, seq_len, d_model)\n",
        "        \n",
        "        pos_emb = self.pos_emb(x) # (seq_len, d_model)\n",
        "        return self.drop_out(tok_emb + pos_emb)"
      ],
      "metadata": {
        "id": "VG3tDtlt24fe"
      },
      "execution_count": 80,
      "outputs": []
    },
    {
      "cell_type": "markdown",
      "source": [
        "## Layer\n",
        "\n"
      ],
      "metadata": {
        "id": "uSaSREGXV6gg"
      }
    },
    {
      "cell_type": "markdown",
      "source": [
        "### Layer Normalization\n",
        "- feature normalization"
      ],
      "metadata": {
        "id": "zV48TVYLRXUz"
      }
    },
    {
      "cell_type": "code",
      "source": [
        "class LayerNorm(nn.Module):\n",
        "    def __init__(self, d_model, eps=1e-12):\n",
        "        '''\n",
        "        Layer Normalization: 对同一数据的 feature 进行 normalization\n",
        "\n",
        "        :param d_model: input embedding 维度\n",
        "        :param eps: a value added to the denominator for numerical stability. Default: 1e-5\n",
        "        '''\n",
        "        super(LayerNorm, self).__init__()\n",
        "        self.gamma = torch.ones(d_model)\n",
        "        self.beta = torch.zeros(d_model)\n",
        "        self.eps = eps\n",
        "\n",
        "    def forward(self, x):\n",
        "        '''\n",
        "        :param x: [batch_size, seq_len, d_model]\n",
        "        '''\n",
        "        mean = x.mean(-1, keepdim=True)\n",
        "        var = x.var(-1, unbiased=False, keepdim=True)\n",
        "        # '-1' means last dimension. \n",
        "\n",
        "        out = (x - mean) / torch.sqrt(var + self.eps)\n",
        "        out = self.gamma * out + self.beta\n",
        "        return out"
      ],
      "metadata": {
        "id": "QWi-lChdSD1T"
      },
      "execution_count": 102,
      "outputs": []
    },
    {
      "cell_type": "markdown",
      "source": [
        "### Feed-Forward Network\n",
        "- linear layer 升维\n",
        "- ReLU activation 激活\n",
        "- dropout\n",
        "- linear layer 降维"
      ],
      "metadata": {
        "id": "t-PLtnlCPtqX"
      }
    },
    {
      "cell_type": "code",
      "source": [
        "class PositionwiseFeedForward(nn.Module):\n",
        "\n",
        "    def __init__(self, d_model, hidden, drop_prob=0.1):\n",
        "        \"\"\" \n",
        "        Feed-Forward Network: 就是先升维激活再降维，在非线性空间拉开差异\n",
        "        \n",
        "        :param d_model: input embedding 维度\n",
        "        :param hidden: 中间层维度\n",
        "        :param drop_prob: dropout 概率，每一层都要 drop\n",
        "        \"\"\"\n",
        "        super(PositionwiseFeedForward, self).__init__()\n",
        "        self.linear1 = nn.Linear(d_model, hidden) # 先升维\n",
        "        self.linear2 = nn.Linear(hidden, d_model) # 再降维\n",
        "        self.relu = nn.ReLU()\n",
        "        self.dropout = nn.Dropout(p=drop_prob)\n",
        "\n",
        "    def forward(self, x):\n",
        "        '''\n",
        "        :param x: [batch_size, seq_len, d_model]\n",
        "        :return: [batch_size, seq_len, d_model]\n",
        "        '''\n",
        "        x = self.linear1(x)\n",
        "        x = self.relu(x)\n",
        "        x = self.dropout(x)\n",
        "        x = self.linear2(x)\n",
        "        return x"
      ],
      "metadata": {
        "id": "m0rysmP4Px0i"
      },
      "execution_count": 95,
      "outputs": []
    },
    {
      "cell_type": "markdown",
      "source": [
        "### Self-Attention\n",
        "- attentionMatrix = queryMatrix * keyMatrix.T\n",
        "- scale attentionMatrix\n",
        "- softmax attentionMatrix\n",
        "- output = attentionMatrix * valueMatrix"
      ],
      "metadata": {
        "id": "POOZmw2UMEwv"
      }
    },
    {
      "cell_type": "code",
      "source": [
        "class ScaleDotProductAttention(nn.Module):\n",
        "\n",
        "    def __init__(self):\n",
        "        super(ScaleDotProductAttention, self).__init__()\n",
        "        self.softmax = nn.Softmax(dim=-1)\n",
        "\n",
        "    def forward(self, q, k, v, mask=None, e=1e-12):\n",
        "        \"\"\"\n",
        "        self-attention 计算\n",
        "        :param q: [batch_size, n_head, seq_len, d_tensor] token query\n",
        "        :param k: [batch_size, n_head, seq_len, d_tensor] token keys\n",
        "        :param v: [batch_size, n_head, seq_len, d_tensor] token values\n",
        "        :return [batch_size, n_head, seq_len, d_tensor]\n",
        "        \"\"\"\n",
        "        # input is 4 dimension tensor\n",
        "        # [batch_size, head, length, d_tensor]\n",
        "        batch_size, head, length, d_tensor = k.size()\n",
        "\n",
        "        # Query 和 Key 点乘，得到 attentionMatrix [batch_size, n_head, seq_len, seq_len]\n",
        "        # 再做 scale，防止点乘结果太大，影响后面 softmax，导致梯度消失\n",
        "        k_t = k.transpose(2, 3)  # transpose\n",
        "        score = (q @ k_t) / math.sqrt(d_tensor)  # scaled dot product\n",
        "\n",
        "        # (optional) 加 mask, decoder 第一个 multi-head attention 需要做这步\n",
        "        if mask is not None:\n",
        "            score = score.masked_fill(mask == 0, -e)\n",
        "\n",
        "        # 用 softmax 将各个 attention 聚集到 0-1 范围内\n",
        "        score = self.softmax(score)\n",
        "\n",
        "        # 根据 attention score，accumulate weighted value 得到 output\n",
        "        v = score @ v\n",
        "\n",
        "        # 这里返回 attention 是因为原作者想要可视化 attention 的分布\n",
        "        return v, score"
      ],
      "metadata": {
        "id": "s_shZ4ZcMWra"
      },
      "execution_count": 94,
      "outputs": []
    },
    {
      "cell_type": "markdown",
      "source": [
        "### Multi-Head Attention\n",
        "- multi-head split\n",
        "- self-attention\n",
        "- multi-head concat\n",
        "- linear transfromation"
      ],
      "metadata": {
        "id": "zZpg_hcaDzQk"
      }
    },
    {
      "cell_type": "code",
      "source": [
        "class MultiHeadAttention(nn.Module):\n",
        "\n",
        "    def __init__(self, d_model, n_head):\n",
        "        \"\"\" \n",
        "        Multi-Head Attention\n",
        "        \n",
        "        :param d_model: input embedding 维度\n",
        "        :param n_head: multi-head attention layer, self-attention 的层数\n",
        "        \"\"\"\n",
        "        super(MultiHeadAttention, self).__init__()\n",
        "        self.n_head = n_head\n",
        "        self.attention = ScaleDotProductAttention()\n",
        "        self.w_q = nn.Linear(d_model, d_model)\n",
        "        self.w_k = nn.Linear(d_model, d_model)\n",
        "        self.w_v = nn.Linear(d_model, d_model)\n",
        "        self.w_concat = nn.Linear(d_model, d_model)\n",
        "\n",
        "    def forward(self, q, k, v, mask=None):\n",
        "        # 根据 query, key, value 的权重矩阵(Linear Layer) 求出输入值对应的 QueryMatrix, KeyMatrix, ValueMatrix\n",
        "        # [batch_size, seq_len, d_model]\n",
        "        q, k, v = self.w_q(q), self.w_k(k), self.w_v(v)\n",
        "\n",
        "        # 切割维度，分为 n_head，每个子维度为 d_tensor = d_model // n_head\n",
        "        # [batch_size, seq_len, n_head, d_tensor]\n",
        "        q, k, v = self.split(q), self.split(k), self.split(v)\n",
        "\n",
        "        # 做 self-attention，考虑要不要加 mask\n",
        "        out, attention = self.attention(q, k, v, mask=mask)\n",
        "\n",
        "        # 将 multi-head 结果合并在一起，再加一个 linear layer 保证输出维度和输入一致\n",
        "        out = self.concat(out)\n",
        "        out = self.w_concat(out)\n",
        "\n",
        "        return out\n",
        "\n",
        "    def split(self, tensor):\n",
        "        \"\"\"\n",
        "        根据 n_head 个数将维度切割成各个小维度集 n_head * d_tensor == d_model\n",
        "        :param tensor: [batch_size, seq_len, d_model]\n",
        "        :return: [batch_size, head, seq_len, d_tensor]\n",
        "        \"\"\"\n",
        "        batch_size, length, d_model = tensor.size()\n",
        "\n",
        "        d_tensor = d_model // self.n_head\n",
        "        tensor = tensor.view(batch_size, length, self.n_head, d_tensor).transpose(1, 2)\n",
        "        # 每一个 token 的 feature(dimension) 被分为 n_head\n",
        "\n",
        "        return tensor\n",
        "\n",
        "    def concat(self, tensor):\n",
        "        \"\"\"\n",
        "        将 multi-head 结果合并在一起\n",
        "        :param tensor: [batch_size, head, seq_len, d_tensor]\n",
        "        :return: [batch_size, seq_len, d_model]\n",
        "        \"\"\"\n",
        "        batch_size, head, length, d_tensor = tensor.size()\n",
        "        d_model = head * d_tensor\n",
        "\n",
        "        tensor = tensor.transpose(1, 2).contiguous().view(batch_size, length, d_model)\n",
        "        return tensor"
      ],
      "metadata": {
        "id": "sLzE4kyDD162"
      },
      "execution_count": 93,
      "outputs": []
    },
    {
      "cell_type": "markdown",
      "source": [
        "## Blocks"
      ],
      "metadata": {
        "id": "ZKL7BIPA97re"
      }
    },
    {
      "cell_type": "markdown",
      "source": [
        "### Encoder Block\n",
        "- Multi-Head Attention\n",
        "- Residual & Add & Norm & Dropout\n",
        "- Feed Forwad\n",
        "- Residual & Add & Norm & Dropout"
      ],
      "metadata": {
        "id": "DDvpdTR6AbXm"
      }
    },
    {
      "cell_type": "code",
      "source": [
        "class EncoderLayer(nn.Module):\n",
        "\n",
        "    def __init__(self, d_model, ffn_hidden, n_head, drop_prob):\n",
        "        \"\"\" \n",
        "        Encoder Block\n",
        "        \n",
        "        :param d_model: input embedding 维度\n",
        "        :param ffn_hidden: ffn 中间层维度\n",
        "        :param n_head: multi-head attention layer, self-attention 的层数\n",
        "        :param drop_prob: dropout 概率，每一层都要 drop\n",
        "        \"\"\"\n",
        "        super(EncoderLayer, self).__init__()\n",
        "        self.attention = MultiHeadAttention(d_model=d_model, n_head=n_head)\n",
        "        self.norm1 = LayerNorm(d_model=d_model)\n",
        "        self.dropout1 = nn.Dropout(p=drop_prob)\n",
        "\n",
        "        self.ffn = PositionwiseFeedForward(d_model=d_model, hidden=ffn_hidden, drop_prob=drop_prob)\n",
        "        self.norm2 = LayerNorm(d_model=d_model)\n",
        "        self.dropout2 = nn.Dropout(p=drop_prob)\n",
        "\n",
        "    def forward(self, x, s_mask):\n",
        "        # self-attention\n",
        "        _x = x\n",
        "        x = self.attention(q=x, k=x, v=x, mask=s_mask)\n",
        "        \n",
        "        # Residual & Add & Norm & Dropout\n",
        "        x = self.norm1(x + _x)\n",
        "        x = self.dropout1(x)\n",
        "        \n",
        "        # Positionwise Feed Forward Network\n",
        "        _x = x\n",
        "        x = self.ffn(x)\n",
        "      \n",
        "        # Residual & Add & Norm & Dropout\n",
        "        x = self.norm2(x + _x)\n",
        "        x = self.dropout2(x)\n",
        "        return x"
      ],
      "metadata": {
        "id": "coX29wTxAdpJ"
      },
      "execution_count": 99,
      "outputs": []
    },
    {
      "cell_type": "markdown",
      "source": [
        "### Decoder Block\n",
        "- Multi-Head Attention (target sequence)\n",
        "- Residual & Add & Norm & Dropout\n",
        "- Multi-Head Attention (source sequence)\n",
        "- Residual & Add & Norm & Dropout\n",
        "- Feed Forwad\n",
        "- Residual & Add & Norm & Dropout"
      ],
      "metadata": {
        "id": "HVRsQGslY-wQ"
      }
    },
    {
      "cell_type": "code",
      "source": [
        "class DecoderLayer(nn.Module):\n",
        "\n",
        "    def __init__(self, d_model, ffn_hidden, n_head, drop_prob):\n",
        "        \"\"\" \n",
        "        Decoder Block\n",
        "        \n",
        "        :param d_model: input embedding 维度\n",
        "        :param ffn_hidden: ffn 中间层维度\n",
        "        :param n_head: multi-head attention layer, self-attention 的层数\n",
        "        :param drop_prob: dropout 概率，每一层都要 drop\n",
        "        \"\"\"\n",
        "        super(DecoderLayer, self).__init__()\n",
        "        self.self_attention = MultiHeadAttention(d_model=d_model, n_head=n_head)\n",
        "        self.norm1 = LayerNorm(d_model=d_model)\n",
        "        self.dropout1 = nn.Dropout(p=drop_prob)\n",
        "\n",
        "        self.enc_dec_attention = MultiHeadAttention(d_model=d_model, n_head=n_head)\n",
        "        self.norm2 = LayerNorm(d_model=d_model)\n",
        "        self.dropout2 = nn.Dropout(p=drop_prob)\n",
        "\n",
        "        self.ffn = PositionwiseFeedForward(d_model=d_model, hidden=ffn_hidden, drop_prob=drop_prob)\n",
        "        self.norm3 = LayerNorm(d_model=d_model)\n",
        "        self.dropout3 = nn.Dropout(p=drop_prob)\n",
        "\n",
        "    def forward(self, dec, enc, t_mask, s_mask):\n",
        "        # 第一个 multi-head attention 是带 mask 的，获取 decoder 已有 sequence 的信息\n",
        "        _x = dec\n",
        "        x = self.self_attention(q=dec, k=dec, v=dec, mask=t_mask)\n",
        "        \n",
        "        # Residual & Add & Norm & Dropout\n",
        "        x = self.norm1(x + _x)\n",
        "        x = self.dropout1(x)\n",
        "\n",
        "        if enc is not None:\n",
        "            # 第二个 multi-head 和结合 encoder 的结果来做的，获取整个 sequence 的信息\n",
        "            _x = x\n",
        "            x = self.enc_dec_attention(q=x, k=enc, v=enc, mask=s_mask)\n",
        "            \n",
        "            # Residual & Add & Norm & Dropout\n",
        "            x = self.norm2(x + _x)\n",
        "            x = self.dropout2(x)\n",
        "\n",
        "        # Positionwise Feed Forward Network\n",
        "        _x = x\n",
        "        x = self.ffn(x)\n",
        "\n",
        "        # Residual & Add & Norm & Dropout\n",
        "        x = self.norm3(x + _x)\n",
        "        x = self.dropout3(x)\n",
        "        return x"
      ],
      "metadata": {
        "id": "Iz_PUQg8ZAiD"
      },
      "execution_count": 100,
      "outputs": []
    },
    {
      "cell_type": "markdown",
      "source": [
        "## Model"
      ],
      "metadata": {
        "id": "PgQwPRBBWeqG"
      }
    },
    {
      "cell_type": "markdown",
      "source": [
        "### Encoder Model\n",
        "- Input Embedding\n",
        "- Encoder Block 多个"
      ],
      "metadata": {
        "id": "gr4DsQiU-iax"
      }
    },
    {
      "cell_type": "code",
      "source": [
        "class Encoder(nn.Module):\n",
        "\n",
        "    def __init__(self, enc_voc_size, max_len, d_model, ffn_hidden, n_head, n_layers, drop_prob, device):\n",
        "        \"\"\" \n",
        "        Encoder Model\n",
        "        \n",
        "        :param enc_voc_size: encoder token 数量\n",
        "        :param max_len: 最大 sequence 长度\n",
        "        :param d_model: input embedding 维度\n",
        "        :param ffn_hidden: ffn 中间层维度\n",
        "        :param n_head: multi-head attention layer, self-attention 的层数\n",
        "        :param n_layers: encoder block 重复次数，论文里是 8 次\n",
        "        :param drop_prob: dropout 概率，每一层都要 drop\n",
        "        \"\"\"\n",
        "        super().__init__()\n",
        "        self.emb = TransformerEmbedding(d_model=d_model,\n",
        "                                        max_len=max_len,\n",
        "                                        vocab_size=enc_voc_size,\n",
        "                                        drop_prob=drop_prob,\n",
        "                                        device=device)\n",
        "\n",
        "       \n",
        "        self.layers = nn.ModuleList([EncoderLayer(d_model=d_model,\n",
        "                                                  ffn_hidden=ffn_hidden,\n",
        "                                                  n_head=n_head,\n",
        "                                                  drop_prob=drop_prob)\n",
        "                                     for _ in range(n_layers)])\n",
        "\n",
        "    def forward(self, x, s_mask):\n",
        "        '''\n",
        "        :param x: [batch_size, seq_len]\n",
        "        :param s_mask: attention 计算是否要 mask\n",
        "        :return: [batch_size, seq_len, d_model]\n",
        "        '''\n",
        "\n",
        "        # 输入部分，做 embedding + positional encoding + dropout\n",
        "        x = self.emb(x)\n",
        "\n",
        "        # 重复 n_layers 次 encoder block 部分\n",
        "        for layer in self.layers:\n",
        "            x = layer(x, s_mask)\n",
        "\n",
        "        return x"
      ],
      "metadata": {
        "id": "O-U0Wad--lKy"
      },
      "execution_count": 97,
      "outputs": []
    },
    {
      "cell_type": "code",
      "source": [
        "# test\n",
        "# Encoder(10, 12, 4, 8, 2, 4, 0.1, None)"
      ],
      "metadata": {
        "id": "4LgMtkzpUEiT"
      },
      "execution_count": null,
      "outputs": []
    },
    {
      "cell_type": "markdown",
      "source": [
        "### Decoder Model\n",
        "- Input Embedding\n",
        "- Decoder Block 多个\n",
        "- Linear layer 输出"
      ],
      "metadata": {
        "id": "wvfVeLkfU1SS"
      }
    },
    {
      "cell_type": "code",
      "source": [
        "class Decoder(nn.Module):\n",
        "    \n",
        "    def __init__(self, dec_voc_size, max_len, d_model, ffn_hidden, n_head, n_layers, drop_prob, device):\n",
        "        \"\"\" \n",
        "        Encoder Model\n",
        "        \n",
        "        :param dec_voc_size: decoder token 数量\n",
        "        :param max_len: 最大 sequence 长度\n",
        "        :param d_model: input embedding 维度\n",
        "        :param ffn_hidden: ffn 中间层维度\n",
        "        :param n_head: multi-head attention layer, self-attention 的层数\n",
        "        :param n_layers: encoder block 重复次数，论文里是 8 次\n",
        "        :param drop_prob: dropout 概率，每一层都要 drop\n",
        "        \"\"\"\n",
        "        super().__init__()\n",
        "        self.emb = TransformerEmbedding(d_model=d_model,\n",
        "                                        drop_prob=drop_prob,\n",
        "                                        max_len=max_len,\n",
        "                                        vocab_size=dec_voc_size,\n",
        "                                        device=device)\n",
        "\n",
        "        self.layers = nn.ModuleList([DecoderLayer(d_model=d_model,\n",
        "                                                  ffn_hidden=ffn_hidden,\n",
        "                                                  n_head=n_head,\n",
        "                                                  drop_prob=drop_prob)\n",
        "                                     for _ in range(n_layers)])\n",
        "\n",
        "        self.linear = nn.Linear(d_model, dec_voc_size)\n",
        "\n",
        "    def forward(self, trg, enc_src, trg_mask, src_mask):\n",
        "        '''\n",
        "        :param trg: [batch_size, seq_len] 已有序列，训练阶段为 truth sequence, 测试阶段为 predicted sequence\n",
        "        :param enc_src: encoder 的输出结果\n",
        "        :param trg_mask: target sequence 的 mask (通常得有), 第一个 multi-head attention\n",
        "        :param src_mask: src sequence 的 mask (通常没有), 第二个 multi-head attention\n",
        "        :return: [batch_size, seq_len, dec_voc_size]\n",
        "        '''\n",
        "        trg = self.emb(trg)\n",
        "\n",
        "        for layer in self.layers:\n",
        "            trg = layer(trg, enc_src, trg_mask, src_mask)\n",
        "\n",
        "        output = self.linear(trg)\n",
        "        return output"
      ],
      "metadata": {
        "id": "EDiSYG5dU233"
      },
      "execution_count": null,
      "outputs": []
    },
    {
      "cell_type": "markdown",
      "source": [
        "### Transformer"
      ],
      "metadata": {
        "id": "Nh_JbKUOatGl"
      }
    },
    {
      "cell_type": "code",
      "source": [
        "class Transformer(nn.Module):\n",
        "\n",
        "    def __init__(self, src_pad_idx, trg_pad_idx, trg_sos_idx, enc_voc_size, dec_voc_size, d_model, n_head, max_len,\n",
        "                 ffn_hidden, n_layers, drop_prob, device):\n",
        "        \"\"\" \n",
        "        Transformer Model\n",
        "        \n",
        "        :param src_pad_idx:\n",
        "        :param trg_pad_idx:\n",
        "        :param trg_sos_idx:\n",
        "        :param enc_voc_size: encoder token 数量\n",
        "        :param dec_voc_size: decoder token 数量\n",
        "        :param d_model: input embedding 维度\n",
        "        :param n_head: multi-head attention layer, self-attention 的层数\n",
        "        :param max_len: 最大 sequence 长度\n",
        "        :param ffn_hidden: ffn 中间层维度\n",
        "        :param n_layers: encoder block 重复次数，论文里是 8 次\n",
        "        :param drop_prob: dropout 概率，每一层都要 drop\n",
        "        \"\"\"\n",
        "        super().__init__()\n",
        "        self.src_pad_idx = src_pad_idx\n",
        "        self.trg_pad_idx = trg_pad_idx\n",
        "        self.trg_sos_idx = trg_sos_idx\n",
        "        self.device = device\n",
        "        self.encoder = Encoder(d_model=d_model,\n",
        "                               n_head=n_head,\n",
        "                               max_len=max_len,\n",
        "                               ffn_hidden=ffn_hidden,\n",
        "                               enc_voc_size=enc_voc_size,\n",
        "                               drop_prob=drop_prob,\n",
        "                               n_layers=n_layers,\n",
        "                               device=device)\n",
        "\n",
        "        self.decoder = Decoder(d_model=d_model,\n",
        "                               n_head=n_head,\n",
        "                               max_len=max_len,\n",
        "                               ffn_hidden=ffn_hidden,\n",
        "                               dec_voc_size=dec_voc_size,\n",
        "                               drop_prob=drop_prob,\n",
        "                               n_layers=n_layers,\n",
        "                               device=device)\n",
        "\n",
        "    def forward(self, src, trg):\n",
        "        '''\n",
        "        :param src: [batch_size, seq_len] source 序列\n",
        "        :param trg: [batch_size, seq_len] target 序列，训练阶段为 truth sequence, 测试阶段为 predicted sequence\n",
        "        :return: [batch_size, seq_len, dec_voc_size]\n",
        "        '''\n",
        "        src_mask = self.make_pad_mask(src, src)\n",
        "\n",
        "        src_trg_mask = self.make_pad_mask(trg, src)\n",
        "\n",
        "        trg_mask = self.make_pad_mask(trg, trg) * self.make_no_peak_mask(trg, trg)\n",
        "\n",
        "        enc_src = self.encoder(src, src_mask)\n",
        "        output = self.decoder(trg, enc_src, trg_mask, src_trg_mask)\n",
        "        return output\n",
        "\n",
        "    def make_pad_mask(self, q, k):\n",
        "        '''\n",
        "        给 q, k 两个 sequence 加 padding mask\n",
        "\n",
        "        :param q: [batch_size, q_seq_len] \n",
        "        :param k: [batch_size, k_seq_len]\n",
        "        :return: [batch_size, seq_len, dec_voc_size]\n",
        "        '''\n",
        "        len_q, len_k = q.size(1), k.size(1)\n",
        "\n",
        "        # torch.ne 计算两个 tensor 中各个位置是否不相等 e.g. ne([1, 0], [0, 0]) == [True, False]\n",
        "\n",
        "        # batch_size x 1 x 1 x len_k\n",
        "        k = k.ne(self.src_pad_idx).unsqueeze(1).unsqueeze(2)\n",
        "        # batch_size x 1 x len_q x len_k\n",
        "        k = k.repeat(1, 1, len_q, 1)\n",
        "\n",
        "        # batch_size x 1 x len_q x 1\n",
        "        q = q.ne(self.src_pad_idx).unsqueeze(1).unsqueeze(3)\n",
        "        # batch_size x 1 x len_q x len_k\n",
        "        q = q.repeat(1, 1, 1, len_k)\n",
        "\n",
        "        mask = k & q\n",
        "        return mask\n",
        "\n",
        "    def make_no_peak_mask(self, q, k):\n",
        "        # 这个就是 decoder 第一个 multi-head attention 计算时的 mask\n",
        "        len_q, len_k = q.size(1), k.size(1)\n",
        "\n",
        "        # len_q x len_k\n",
        "        mask = torch.tril(torch.ones(len_q, len_k)).type(torch.BoolTensor).to(self.device)\n",
        "\n",
        "        return mask"
      ],
      "metadata": {
        "id": "GcC_iHO5auM1"
      },
      "execution_count": null,
      "outputs": []
    }
  ]
}